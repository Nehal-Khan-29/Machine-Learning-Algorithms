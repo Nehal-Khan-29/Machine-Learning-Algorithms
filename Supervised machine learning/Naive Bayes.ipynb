{
 "cells": [
  {
   "cell_type": "markdown",
   "id": "ac8839ab",
   "metadata": {},
   "source": [
    "# Naive Bayes"
   ]
  },
  {
   "cell_type": "markdown",
   "id": "3cebf36b",
   "metadata": {},
   "source": [
    "### Full Code"
   ]
  },
  {
   "cell_type": "code",
   "execution_count": null,
   "id": "3fe0c7fe",
   "metadata": {},
   "outputs": [],
   "source": [
    "import pandas as pd \n",
    "from sklearn.model_selection import train_test_split \n",
    "from sklearn.metrics import accuracy_score, confusion_matrix, classification_report\n",
    "from sklearn.feature_extraction.text import CountVectorizer \n",
    "from sklearn.naive_bayes import MultinomialNB \n",
    "\n",
    "df = pd.read_csv('Datasets/mail_data.csv')\n",
    "\n",
    "# Convert labels: 'spam' -> 1, 'ham' -> 0\n",
    "df['Category'] = df['Category'].map({'ham': 0, 'spam': 1})\n",
    "\n",
    "X = df['Message']\n",
    "y = df['Category']\n",
    "\n",
    "# Convert text to numerical vectors using CountVectorizer\n",
    "vectorizer = CountVectorizer(stop_words='english') \n",
    "X_vectorized = vectorizer.fit_transform(X) \n",
    "\n",
    "X_train, X_test, y_train, y_test = train_test_split(X_vectorized, y, test_size=0.2, random_state=0) \n",
    "\n",
    "nb = MultinomialNB() \n",
    "nb.fit(X_train, y_train)\n",
    "\n",
    "y_pred = nb.predict(X_test)\n",
    "\n",
    "# Evaluate performance\n",
    "accuracy = accuracy_score(y_test, y_pred)\n",
    "conf_matrix = confusion_matrix(y_test, y_pred)\n",
    "print(f'Accuracy: {accuracy * 100:.2f}%')\n",
    "print('Confusion Matrix:')\n",
    "print(conf_matrix)\n",
    "print('\\nClassification Report:')\n",
    "print(classification_report(y_test, y_pred))\n",
    "\n",
    "# User input for testing\n",
    "user_input = input(\"\\nEnter your email text: \")\n",
    "# Vectorize user input using the SAME vectorizer \n",
    "user_vector = vectorizer.transform([user_input]) \n",
    "# Predict \n",
    "prediction = nb.predict(user_vector)[0] \n",
    "print(\"\\nPrediction Result:\")\n",
    "if prediction == 1: \n",
    "    print(\"The email is classified as: SPAM\") \n",
    "else: \n",
    "    print(\"The email is classified as: NOT SPAM\")\n"
   ]
  }
 ],
 "metadata": {
  "kernelspec": {
   "display_name": "Python 3 (ipykernel)",
   "language": "python",
   "name": "python3"
  },
  "language_info": {
   "codemirror_mode": {
    "name": "ipython",
    "version": 3
   },
   "file_extension": ".py",
   "mimetype": "text/x-python",
   "name": "python",
   "nbconvert_exporter": "python",
   "pygments_lexer": "ipython3",
   "version": "3.10.8"
  }
 },
 "nbformat": 4,
 "nbformat_minor": 5
}
